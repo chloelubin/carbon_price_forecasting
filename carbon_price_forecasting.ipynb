{
 "cells": [
  {
   "cell_type": "markdown",
   "metadata": {},
   "source": [
    "# Carbon Price Forecasting"
   ]
  },
  {
   "cell_type": "markdown",
   "metadata": {},
   "source": [
    "Description"
   ]
  },
  {
   "cell_type": "code",
   "execution_count": 56,
   "metadata": {},
   "outputs": [],
   "source": [
    "# import packages\n",
    "import pandas as pd\n",
    "import numpy as np\n",
    "import requests\n",
    "import json\n",
    "from bs4 import BeautifulSoup, SoupStrainer\n",
    "import re"
   ]
  },
  {
   "cell_type": "code",
   "execution_count": 125,
   "metadata": {},
   "outputs": [
    {
     "name": "stdout",
     "output_type": "stream",
     "text": [
      "['https://raw.githubusercontent.com/g-dolphin/WorldCarbonPricingDatabase/master/_dataset/data/CO2/national/wcpd_co2_Afghanistan.csv', 'https://raw.githubusercontent.com/g-dolphin/WorldCarbonPricingDatabase/master/_dataset/data/CO2/national/wcpd_co2_Albania.csv', 'https://raw.githubusercontent.com/g-dolphin/WorldCarbonPricingDatabase/master/_dataset/data/CO2/national/wcpd_co2_Algeria.csv']\n"
     ]
    }
   ],
   "source": [
    "base_url = 'https://github.com/g-dolphin/WorldCarbonPricingDatabase/tree/master/_dataset/data/CO2/national/'\n",
    "file_url = 'https://raw.githubusercontent.com/g-dolphin/WorldCarbonPricingDatabase/master/_dataset/data/CO2/national/'\n",
    "\n",
    "result = requests.get(base_url)\n",
    "json_result = json.loads(result.text)\n",
    "\n",
    "file_names = []\n",
    "for item in json_result['payload']['tree']['items']:\n",
    "    file_names.append(file_url + item['name'])\n",
    "\n",
    "# try while loop later\n",
    "# file_names = []\n",
    "# while item in json_result['payload']['tree']['items']:\n",
    "#     file_names.append(file_url + item['name'])\n",
    "\n",
    "print(file_names[0:3])"
   ]
  }
 ],
 "metadata": {
  "kernelspec": {
   "display_name": "Python 3",
   "language": "python",
   "name": "python3"
  },
  "language_info": {
   "codemirror_mode": {
    "name": "ipython",
    "version": 3
   },
   "file_extension": ".py",
   "mimetype": "text/x-python",
   "name": "python",
   "nbconvert_exporter": "python",
   "pygments_lexer": "ipython3",
   "version": "3.7.6"
  }
 },
 "nbformat": 4,
 "nbformat_minor": 2
}
