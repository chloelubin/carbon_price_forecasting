{
 "cells": [
  {
   "cell_type": "markdown",
   "metadata": {},
   "source": [
    "# Carbon Price Forecasting"
   ]
  },
  {
   "cell_type": "markdown",
   "metadata": {},
   "source": [
    "## Introduction"
   ]
  },
  {
   "cell_type": "markdown",
   "metadata": {},
   "source": [
    "After listening to a podcast from TILclimate, presented by the MIT Environmental Solutions Initiative, on the topic of carbon offsets, I was interested in digging more into the carbon market. A big question is whether buying credits to offset one's carbon impact on the planet is an effective scheme or not? The latest research suggests that it isn't, but the carbon market keeps expanding, with new carbon registeries opening, new corporate and individual buyers, and new climate projects funded by carbon credits. Just how big will this carbon market become in the next few years? Will it be the [$100 billion market](https://www.wsj.com/articles/rebuilding-trust-in-carbon-offsets-faces-uphill-battle-d7811603?mod=hp_minor_pos17) by 2030 that analysts predict?\n",
    "\n",
    "That's what I try to uncover in this project forecasting the price of carbon in Emissions Trading Systems (ETS). We look here at the trading demand for carbon credits by predicting carbon prices over time, a market that has the power of shaping our livelihoods.\n",
    "\n",
    "The data is sourced from the [World Carbon Pricing Database](https://github.com/g-dolphin/WorldCarbonPricingDatabase/tree/master), compiled by Dolphin and Xiahou, economics PhD researchers. It is updated by an active userbase on Github. The exchange rate between national currencies and USD is sourced from the [U.S. Treasury's website](https://fiscaldata.treasury.gov/datasets/treasury-reporting-rates-exchange/treasury-reporting-rates-of-exchange) and the corresponding currency code from [IBAN](https://www.iban.com/currency-codes)'s website."
   ]
  },
  {
   "cell_type": "markdown",
   "metadata": {},
   "source": [
    "## Data Pre-Processing"
   ]
  },
  {
   "cell_type": "code",
   "execution_count": 33,
   "metadata": {},
   "outputs": [],
   "source": [
    "# import packages\n",
    "import pandas as pd\n",
    "import numpy as np\n",
    "import requests\n",
    "import json\n",
    "import matplotlib.pyplot as plt\n",
    "%matplotlib inline"
   ]
  },
  {
   "cell_type": "code",
   "execution_count": 34,
   "metadata": {},
   "outputs": [
    {
     "name": "stdout",
     "output_type": "stream",
     "text": [
      "https://raw.githubusercontent.com/g-dolphin/WorldCarbonPricingDatabase/master/_dataset/data/CO2/national/wcpd_co2_Afghanistan.csv\n"
     ]
    }
   ],
   "source": [
    "# url used to parse HTML text using requests library\n",
    "base_url = 'https://github.com/g-dolphin/WorldCarbonPricingDatabase/tree/master/_dataset/data/CO2/national/'\n",
    "# url used to read the content of the files from Github\n",
    "file_url = 'https://raw.githubusercontent.com/g-dolphin/WorldCarbonPricingDatabase/master/_dataset/data/CO2/national/'\n",
    "\n",
    "result = requests.get(base_url)\n",
    "json_result = json.loads(result.text)\n",
    "\n",
    "country_files = []\n",
    "[country_files.append(file_url + country_file['name']) for country_file in json_result['payload']['tree']['items']]    \n",
    "\n",
    "print(country_files[0])"
   ]
  },
  {
   "cell_type": "code",
   "execution_count": 35,
   "metadata": {},
   "outputs": [],
   "source": [
    "carbon_df = pd.DataFrame()\n",
    "\n",
    "for country_file in country_files:\n",
    "    data = pd.read_csv(country_file)\n",
    "    data = data.astype({'tax': 'int32', 'ets': 'int32', 'tax_rate_incl_ex_clcu': 'float', 'ets_price': 'float', 'tax_curr_code': 'str'})\n",
    "    carbon_df = pd.concat([carbon_df, data], axis=0)"
   ]
  },
  {
   "cell_type": "code",
   "execution_count": 36,
   "metadata": {
    "scrolled": true
   },
   "outputs": [],
   "source": [
    "carbon_df = carbon_df.dropna(subset=['ets_price'])"
   ]
  },
  {
   "cell_type": "code",
   "execution_count": 37,
   "metadata": {
    "scrolled": true
   },
   "outputs": [],
   "source": [
    "carbon_df.drop(carbon_df.columns[carbon_df.apply(lambda col: col.isna().sum() == carbon_df.shape[0])], inplace=True, axis=1)"
   ]
  },
  {
   "cell_type": "code",
   "execution_count": 38,
   "metadata": {},
   "outputs": [],
   "source": [
    "exch_rate_df = pd.read_csv('https://raw.githubusercontent.com/chloelubin/carbon_price_forecasting/main/_datasets/exchange_rate_2005_2022.csv')\n",
    "\n",
    "carbon_df = pd.merge(\n",
    "    carbon_df, exch_rate_df, how='left', left_on=['year', 'ets_curr_code'], right_on=['recorded_year', 'country_code']\n",
    ")"
   ]
  },
  {
   "cell_type": "code",
   "execution_count": 39,
   "metadata": {},
   "outputs": [],
   "source": [
    "carbon_df['ets_price_usd'] = carbon_df['ets_price'] / carbon_df['exchange_rate']"
   ]
  },
  {
   "cell_type": "code",
   "execution_count": 40,
   "metadata": {
    "scrolled": false
   },
   "outputs": [
    {
     "data": {
      "text/plain": [
       "array(['Austria', 'Belgium', 'Bulgaria', 'China', 'Croatia', 'Cyprus',\n",
       "       'Czech Republic', 'Denmark', 'Estonia', 'Finland', 'France',\n",
       "       'Germany', 'Greece', 'Hungary', 'Iceland', 'Ireland', 'Italy',\n",
       "       'Kazakhstan', 'Korea, Rep.', 'Latvia', 'Liechtenstein',\n",
       "       'Lithuania', 'Luxembourg', 'Malta', 'Netherlands', 'New Zealand',\n",
       "       'Norway', 'Poland', 'Portugal', 'Romania', 'Slovak Republic',\n",
       "       'Slovenia', 'Spain', 'Sweden', 'Switzerland', 'United Kingdom'],\n",
       "      dtype=object)"
      ]
     },
     "execution_count": 40,
     "metadata": {},
     "output_type": "execute_result"
    }
   ],
   "source": [
    "carbon_df.jurisdiction.unique()"
   ]
  },
  {
   "cell_type": "code",
   "execution_count": 63,
   "metadata": {
    "scrolled": true
   },
   "outputs": [
    {
     "data": {
      "text/plain": [
       "False"
      ]
     },
     "execution_count": 63,
     "metadata": {},
     "output_type": "execute_result"
    }
   ],
   "source": [
    "[carbon_df.groupby(['jurisdiction', 'year'])['ets_price_usd'].nunique() != 1] == True"
   ]
  },
  {
   "cell_type": "code",
   "execution_count": 68,
   "metadata": {},
   "outputs": [],
   "source": [
    "carbon_df = carbon_df.drop_duplicates(subset=['jurisdiction','year','ets_price','ets_price_usd','exchange_rate'])"
   ]
  },
  {
   "cell_type": "code",
   "execution_count": 69,
   "metadata": {},
   "outputs": [
    {
     "data": {
      "text/html": [
       "<div>\n",
       "<style scoped>\n",
       "    .dataframe tbody tr th:only-of-type {\n",
       "        vertical-align: middle;\n",
       "    }\n",
       "\n",
       "    .dataframe tbody tr th {\n",
       "        vertical-align: top;\n",
       "    }\n",
       "\n",
       "    .dataframe thead th {\n",
       "        text-align: right;\n",
       "    }\n",
       "</style>\n",
       "<table border=\"1\" class=\"dataframe\">\n",
       "  <thead>\n",
       "    <tr style=\"text-align: right;\">\n",
       "      <th></th>\n",
       "      <th>year</th>\n",
       "      <th>tax</th>\n",
       "      <th>ets</th>\n",
       "      <th>tax_rate_excl_ex_clcu</th>\n",
       "      <th>tax_ex_rate</th>\n",
       "      <th>tax_rate_incl_ex_clcu</th>\n",
       "      <th>ets_price</th>\n",
       "      <th>recorded_year</th>\n",
       "      <th>exchange_rate</th>\n",
       "      <th>ets_price_usd</th>\n",
       "    </tr>\n",
       "  </thead>\n",
       "  <tbody>\n",
       "    <tr>\n",
       "      <th>count</th>\n",
       "      <td>569.000000</td>\n",
       "      <td>569.000000</td>\n",
       "      <td>569.0</td>\n",
       "      <td>65.000000</td>\n",
       "      <td>66.0</td>\n",
       "      <td>65.000000</td>\n",
       "      <td>569.000000</td>\n",
       "      <td>569.000000</td>\n",
       "      <td>569.000000</td>\n",
       "      <td>569.000000</td>\n",
       "    </tr>\n",
       "    <tr>\n",
       "      <th>mean</th>\n",
       "      <td>2013.970123</td>\n",
       "      <td>0.115993</td>\n",
       "      <td>1.0</td>\n",
       "      <td>10.816077</td>\n",
       "      <td>0.0</td>\n",
       "      <td>10.816077</td>\n",
       "      <td>293.023357</td>\n",
       "      <td>2013.970123</td>\n",
       "      <td>17.463025</td>\n",
       "      <td>21.664172</td>\n",
       "    </tr>\n",
       "    <tr>\n",
       "      <th>std</th>\n",
       "      <td>5.057851</td>\n",
       "      <td>0.320498</td>\n",
       "      <td>0.0</td>\n",
       "      <td>23.324990</td>\n",
       "      <td>0.0</td>\n",
       "      <td>23.324990</td>\n",
       "      <td>2539.282884</td>\n",
       "      <td>5.057851</td>\n",
       "      <td>129.041091</td>\n",
       "      <td>20.525279</td>\n",
       "    </tr>\n",
       "    <tr>\n",
       "      <th>min</th>\n",
       "      <td>2005.000000</td>\n",
       "      <td>0.000000</td>\n",
       "      <td>1.0</td>\n",
       "      <td>0.140000</td>\n",
       "      <td>0.0</td>\n",
       "      <td>0.140000</td>\n",
       "      <td>0.000000</td>\n",
       "      <td>2005.000000</td>\n",
       "      <td>0.680000</td>\n",
       "      <td>0.000000</td>\n",
       "    </tr>\n",
       "    <tr>\n",
       "      <th>25%</th>\n",
       "      <td>2010.000000</td>\n",
       "      <td>0.000000</td>\n",
       "      <td>1.0</td>\n",
       "      <td>0.290000</td>\n",
       "      <td>0.0</td>\n",
       "      <td>0.290000</td>\n",
       "      <td>5.950000</td>\n",
       "      <td>2010.000000</td>\n",
       "      <td>0.759000</td>\n",
       "      <td>7.238443</td>\n",
       "    </tr>\n",
       "    <tr>\n",
       "      <th>50%</th>\n",
       "      <td>2014.000000</td>\n",
       "      <td>0.000000</td>\n",
       "      <td>1.0</td>\n",
       "      <td>2.000000</td>\n",
       "      <td>0.0</td>\n",
       "      <td>2.000000</td>\n",
       "      <td>14.340000</td>\n",
       "      <td>2014.000000</td>\n",
       "      <td>0.822000</td>\n",
       "      <td>18.142202</td>\n",
       "    </tr>\n",
       "    <tr>\n",
       "      <th>75%</th>\n",
       "      <td>2018.000000</td>\n",
       "      <td>0.000000</td>\n",
       "      <td>1.0</td>\n",
       "      <td>4.940000</td>\n",
       "      <td>0.0</td>\n",
       "      <td>4.940000</td>\n",
       "      <td>24.760000</td>\n",
       "      <td>2018.000000</td>\n",
       "      <td>0.890000</td>\n",
       "      <td>25.454545</td>\n",
       "    </tr>\n",
       "    <tr>\n",
       "      <th>max</th>\n",
       "      <td>2022.000000</td>\n",
       "      <td>1.000000</td>\n",
       "      <td>1.0</td>\n",
       "      <td>96.000000</td>\n",
       "      <td>0.0</td>\n",
       "      <td>96.000000</td>\n",
       "      <td>30163.910000</td>\n",
       "      <td>2022.000000</td>\n",
       "      <td>1203.210000</td>\n",
       "      <td>86.346154</td>\n",
       "    </tr>\n",
       "  </tbody>\n",
       "</table>\n",
       "</div>"
      ],
      "text/plain": [
       "              year         tax    ets  tax_rate_excl_ex_clcu  tax_ex_rate  \\\n",
       "count   569.000000  569.000000  569.0              65.000000         66.0   \n",
       "mean   2013.970123    0.115993    1.0              10.816077          0.0   \n",
       "std       5.057851    0.320498    0.0              23.324990          0.0   \n",
       "min    2005.000000    0.000000    1.0               0.140000          0.0   \n",
       "25%    2010.000000    0.000000    1.0               0.290000          0.0   \n",
       "50%    2014.000000    0.000000    1.0               2.000000          0.0   \n",
       "75%    2018.000000    0.000000    1.0               4.940000          0.0   \n",
       "max    2022.000000    1.000000    1.0              96.000000          0.0   \n",
       "\n",
       "       tax_rate_incl_ex_clcu     ets_price  recorded_year  exchange_rate  \\\n",
       "count              65.000000    569.000000     569.000000     569.000000   \n",
       "mean               10.816077    293.023357    2013.970123      17.463025   \n",
       "std                23.324990   2539.282884       5.057851     129.041091   \n",
       "min                 0.140000      0.000000    2005.000000       0.680000   \n",
       "25%                 0.290000      5.950000    2010.000000       0.759000   \n",
       "50%                 2.000000     14.340000    2014.000000       0.822000   \n",
       "75%                 4.940000     24.760000    2018.000000       0.890000   \n",
       "max                96.000000  30163.910000    2022.000000    1203.210000   \n",
       "\n",
       "       ets_price_usd  \n",
       "count     569.000000  \n",
       "mean       21.664172  \n",
       "std        20.525279  \n",
       "min         0.000000  \n",
       "25%         7.238443  \n",
       "50%        18.142202  \n",
       "75%        25.454545  \n",
       "max        86.346154  "
      ]
     },
     "execution_count": 69,
     "metadata": {},
     "output_type": "execute_result"
    }
   ],
   "source": [
    "carbon_df.describe()"
   ]
  },
  {
   "cell_type": "code",
   "execution_count": 70,
   "metadata": {},
   "outputs": [
    {
     "data": {
      "text/plain": [
       "(569, 20)"
      ]
     },
     "execution_count": 70,
     "metadata": {},
     "output_type": "execute_result"
    }
   ],
   "source": [
    "carbon_df.shape"
   ]
  },
  {
   "cell_type": "code",
   "execution_count": 71,
   "metadata": {},
   "outputs": [
    {
     "name": "stdout",
     "output_type": "stream",
     "text": [
      "<class 'pandas.core.frame.DataFrame'>\n",
      "Int64Index: 569 entries, 0 to 43625\n",
      "Data columns (total 20 columns):\n",
      " #   Column                 Non-Null Count  Dtype  \n",
      "---  ------                 --------------  -----  \n",
      " 0   jurisdiction           569 non-null    object \n",
      " 1   year                   569 non-null    int64  \n",
      " 2   ipcc_code              569 non-null    object \n",
      " 3   Product                568 non-null    object \n",
      " 4   tax                    569 non-null    int32  \n",
      " 5   ets                    569 non-null    int32  \n",
      " 6   tax_id                 66 non-null     object \n",
      " 7   tax_rate_excl_ex_clcu  65 non-null     float64\n",
      " 8   tax_ex_rate            66 non-null     float64\n",
      " 9   tax_rate_incl_ex_clcu  65 non-null     float64\n",
      " 10  tax_curr_code          569 non-null    object \n",
      " 11  ets_id                 569 non-null    object \n",
      " 12  ets_price              569 non-null    float64\n",
      " 13  ets_curr_code          569 non-null    object \n",
      " 14  recorded_date          569 non-null    object \n",
      " 15  recorded_year          569 non-null    int64  \n",
      " 16  country_name           569 non-null    object \n",
      " 17  country_code           569 non-null    object \n",
      " 18  exchange_rate          569 non-null    float64\n",
      " 19  ets_price_usd          569 non-null    float64\n",
      "dtypes: float64(6), int32(2), int64(2), object(10)\n",
      "memory usage: 88.9+ KB\n"
     ]
    }
   ],
   "source": [
    "carbon_df.info()"
   ]
  },
  {
   "cell_type": "code",
   "execution_count": 72,
   "metadata": {},
   "outputs": [
    {
     "data": {
      "text/plain": [
       "array(['Coal', nan], dtype=object)"
      ]
     },
     "execution_count": 72,
     "metadata": {},
     "output_type": "execute_result"
    }
   ],
   "source": [
    "carbon_df.Product.unique()"
   ]
  },
  {
   "cell_type": "code",
   "execution_count": 73,
   "metadata": {},
   "outputs": [
    {
     "data": {
      "image/png": "[encoded data removed]",
      "text/plain": [
       "<Figure size 640x480 with 1 Axes>"
      ]
     },
     "metadata": {},
     "output_type": "display_data"
    }
   ],
   "source": [
    "carbon_df.ets_price_usd.plot.hist(bins=10, alpha=0.5);"
   ]
  },
  {
   "cell_type": "code",
   "execution_count": 74,
   "metadata": {},
   "outputs": [],
   "source": [
    "carbon_df.to_csv('carbon_price_all_countries.csv', index=False)"
   ]
  },
  {
   "cell_type": "markdown",
   "metadata": {},
   "source": [
    "## Exploratory Data Analysis"
   ]
  },
  {
   "cell_type": "code",
   "execution_count": 56,
   "metadata": {},
   "outputs": [
    {
     "data": {
      "text/html": [
       "<div>\n",
       "<style scoped>\n",
       "    .dataframe tbody tr th:only-of-type {\n",
       "        vertical-align: middle;\n",
       "    }\n",
       "\n",
       "    .dataframe tbody tr th {\n",
       "        vertical-align: top;\n",
       "    }\n",
       "\n",
       "    .dataframe thead th {\n",
       "        text-align: right;\n",
       "    }\n",
       "</style>\n",
       "<table border=\"1\" class=\"dataframe\">\n",
       "  <thead>\n",
       "    <tr style=\"text-align: right;\">\n",
       "      <th></th>\n",
       "      <th>jurisdiction</th>\n",
       "      <th>year</th>\n",
       "      <th>ipcc_code</th>\n",
       "      <th>Product</th>\n",
       "      <th>tax</th>\n",
       "      <th>ets</th>\n",
       "      <th>tax_id</th>\n",
       "      <th>tax_rate_excl_ex_clcu</th>\n",
       "      <th>tax_ex_rate</th>\n",
       "      <th>tax_rate_incl_ex_clcu</th>\n",
       "      <th>tax_curr_code</th>\n",
       "      <th>ets_id</th>\n",
       "      <th>ets_price</th>\n",
       "      <th>ets_curr_code</th>\n",
       "      <th>recorded_date</th>\n",
       "      <th>recorded_year</th>\n",
       "      <th>country_name</th>\n",
       "      <th>country_code</th>\n",
       "      <th>exchange_rate</th>\n",
       "      <th>ets_price_usd</th>\n",
       "    </tr>\n",
       "  </thead>\n",
       "  <tbody>\n",
       "    <tr>\n",
       "      <th>3961</th>\n",
       "      <td>China</td>\n",
       "      <td>2021</td>\n",
       "      <td>1A1A1</td>\n",
       "      <td>Coal</td>\n",
       "      <td>0</td>\n",
       "      <td>1</td>\n",
       "      <td>NaN</td>\n",
       "      <td>NaN</td>\n",
       "      <td>NaN</td>\n",
       "      <td>NaN</td>\n",
       "      <td>nan</td>\n",
       "      <td>chn_ets</td>\n",
       "      <td>46.61</td>\n",
       "      <td>CNY</td>\n",
       "      <td>12/31/21</td>\n",
       "      <td>2021</td>\n",
       "      <td>China</td>\n",
       "      <td>CNY</td>\n",
       "      <td>6.373</td>\n",
       "      <td>7.313667</td>\n",
       "    </tr>\n",
       "    <tr>\n",
       "      <th>3962</th>\n",
       "      <td>China</td>\n",
       "      <td>2021</td>\n",
       "      <td>1A1A1</td>\n",
       "      <td>Natural gas</td>\n",
       "      <td>0</td>\n",
       "      <td>1</td>\n",
       "      <td>NaN</td>\n",
       "      <td>NaN</td>\n",
       "      <td>NaN</td>\n",
       "      <td>NaN</td>\n",
       "      <td>nan</td>\n",
       "      <td>chn_ets</td>\n",
       "      <td>46.61</td>\n",
       "      <td>CNY</td>\n",
       "      <td>12/31/21</td>\n",
       "      <td>2021</td>\n",
       "      <td>China</td>\n",
       "      <td>CNY</td>\n",
       "      <td>6.373</td>\n",
       "      <td>7.313667</td>\n",
       "    </tr>\n",
       "    <tr>\n",
       "      <th>3963</th>\n",
       "      <td>China</td>\n",
       "      <td>2021</td>\n",
       "      <td>1A1A1</td>\n",
       "      <td>Oil</td>\n",
       "      <td>0</td>\n",
       "      <td>1</td>\n",
       "      <td>NaN</td>\n",
       "      <td>NaN</td>\n",
       "      <td>NaN</td>\n",
       "      <td>NaN</td>\n",
       "      <td>nan</td>\n",
       "      <td>chn_ets</td>\n",
       "      <td>46.61</td>\n",
       "      <td>CNY</td>\n",
       "      <td>12/31/21</td>\n",
       "      <td>2021</td>\n",
       "      <td>China</td>\n",
       "      <td>CNY</td>\n",
       "      <td>6.373</td>\n",
       "      <td>7.313667</td>\n",
       "    </tr>\n",
       "    <tr>\n",
       "      <th>3964</th>\n",
       "      <td>China</td>\n",
       "      <td>2021</td>\n",
       "      <td>1A1A2</td>\n",
       "      <td>Coal</td>\n",
       "      <td>0</td>\n",
       "      <td>1</td>\n",
       "      <td>NaN</td>\n",
       "      <td>NaN</td>\n",
       "      <td>NaN</td>\n",
       "      <td>NaN</td>\n",
       "      <td>nan</td>\n",
       "      <td>chn_ets</td>\n",
       "      <td>46.61</td>\n",
       "      <td>CNY</td>\n",
       "      <td>12/31/21</td>\n",
       "      <td>2021</td>\n",
       "      <td>China</td>\n",
       "      <td>CNY</td>\n",
       "      <td>6.373</td>\n",
       "      <td>7.313667</td>\n",
       "    </tr>\n",
       "    <tr>\n",
       "      <th>3965</th>\n",
       "      <td>China</td>\n",
       "      <td>2021</td>\n",
       "      <td>1A1A2</td>\n",
       "      <td>Natural gas</td>\n",
       "      <td>0</td>\n",
       "      <td>1</td>\n",
       "      <td>NaN</td>\n",
       "      <td>NaN</td>\n",
       "      <td>NaN</td>\n",
       "      <td>NaN</td>\n",
       "      <td>nan</td>\n",
       "      <td>chn_ets</td>\n",
       "      <td>46.61</td>\n",
       "      <td>CNY</td>\n",
       "      <td>12/31/21</td>\n",
       "      <td>2021</td>\n",
       "      <td>China</td>\n",
       "      <td>CNY</td>\n",
       "      <td>6.373</td>\n",
       "      <td>7.313667</td>\n",
       "    </tr>\n",
       "    <tr>\n",
       "      <th>3966</th>\n",
       "      <td>China</td>\n",
       "      <td>2021</td>\n",
       "      <td>1A1A2</td>\n",
       "      <td>Oil</td>\n",
       "      <td>0</td>\n",
       "      <td>1</td>\n",
       "      <td>NaN</td>\n",
       "      <td>NaN</td>\n",
       "      <td>NaN</td>\n",
       "      <td>NaN</td>\n",
       "      <td>nan</td>\n",
       "      <td>chn_ets</td>\n",
       "      <td>46.61</td>\n",
       "      <td>CNY</td>\n",
       "      <td>12/31/21</td>\n",
       "      <td>2021</td>\n",
       "      <td>China</td>\n",
       "      <td>CNY</td>\n",
       "      <td>6.373</td>\n",
       "      <td>7.313667</td>\n",
       "    </tr>\n",
       "    <tr>\n",
       "      <th>3967</th>\n",
       "      <td>China</td>\n",
       "      <td>2021</td>\n",
       "      <td>1A1A3</td>\n",
       "      <td>Coal</td>\n",
       "      <td>0</td>\n",
       "      <td>1</td>\n",
       "      <td>NaN</td>\n",
       "      <td>NaN</td>\n",
       "      <td>NaN</td>\n",
       "      <td>NaN</td>\n",
       "      <td>nan</td>\n",
       "      <td>chn_ets</td>\n",
       "      <td>46.61</td>\n",
       "      <td>CNY</td>\n",
       "      <td>12/31/21</td>\n",
       "      <td>2021</td>\n",
       "      <td>China</td>\n",
       "      <td>CNY</td>\n",
       "      <td>6.373</td>\n",
       "      <td>7.313667</td>\n",
       "    </tr>\n",
       "    <tr>\n",
       "      <th>3968</th>\n",
       "      <td>China</td>\n",
       "      <td>2021</td>\n",
       "      <td>1A1A3</td>\n",
       "      <td>Natural gas</td>\n",
       "      <td>0</td>\n",
       "      <td>1</td>\n",
       "      <td>NaN</td>\n",
       "      <td>NaN</td>\n",
       "      <td>NaN</td>\n",
       "      <td>NaN</td>\n",
       "      <td>nan</td>\n",
       "      <td>chn_ets</td>\n",
       "      <td>46.61</td>\n",
       "      <td>CNY</td>\n",
       "      <td>12/31/21</td>\n",
       "      <td>2021</td>\n",
       "      <td>China</td>\n",
       "      <td>CNY</td>\n",
       "      <td>6.373</td>\n",
       "      <td>7.313667</td>\n",
       "    </tr>\n",
       "    <tr>\n",
       "      <th>3969</th>\n",
       "      <td>China</td>\n",
       "      <td>2021</td>\n",
       "      <td>1A1A3</td>\n",
       "      <td>Oil</td>\n",
       "      <td>0</td>\n",
       "      <td>1</td>\n",
       "      <td>NaN</td>\n",
       "      <td>NaN</td>\n",
       "      <td>NaN</td>\n",
       "      <td>NaN</td>\n",
       "      <td>nan</td>\n",
       "      <td>chn_ets</td>\n",
       "      <td>46.61</td>\n",
       "      <td>CNY</td>\n",
       "      <td>12/31/21</td>\n",
       "      <td>2021</td>\n",
       "      <td>China</td>\n",
       "      <td>CNY</td>\n",
       "      <td>6.373</td>\n",
       "      <td>7.313667</td>\n",
       "    </tr>\n",
       "  </tbody>\n",
       "</table>\n",
       "</div>"
      ],
      "text/plain": [
       "     jurisdiction  year ipcc_code      Product  tax  ets tax_id  \\\n",
       "3961        China  2021     1A1A1         Coal    0    1    NaN   \n",
       "3962        China  2021     1A1A1  Natural gas    0    1    NaN   \n",
       "3963        China  2021     1A1A1          Oil    0    1    NaN   \n",
       "3964        China  2021     1A1A2         Coal    0    1    NaN   \n",
       "3965        China  2021     1A1A2  Natural gas    0    1    NaN   \n",
       "3966        China  2021     1A1A2          Oil    0    1    NaN   \n",
       "3967        China  2021     1A1A3         Coal    0    1    NaN   \n",
       "3968        China  2021     1A1A3  Natural gas    0    1    NaN   \n",
       "3969        China  2021     1A1A3          Oil    0    1    NaN   \n",
       "\n",
       "      tax_rate_excl_ex_clcu  tax_ex_rate  tax_rate_incl_ex_clcu tax_curr_code  \\\n",
       "3961                    NaN          NaN                    NaN           nan   \n",
       "3962                    NaN          NaN                    NaN           nan   \n",
       "3963                    NaN          NaN                    NaN           nan   \n",
       "3964                    NaN          NaN                    NaN           nan   \n",
       "3965                    NaN          NaN                    NaN           nan   \n",
       "3966                    NaN          NaN                    NaN           nan   \n",
       "3967                    NaN          NaN                    NaN           nan   \n",
       "3968                    NaN          NaN                    NaN           nan   \n",
       "3969                    NaN          NaN                    NaN           nan   \n",
       "\n",
       "       ets_id  ets_price ets_curr_code recorded_date  recorded_year  \\\n",
       "3961  chn_ets      46.61           CNY      12/31/21           2021   \n",
       "3962  chn_ets      46.61           CNY      12/31/21           2021   \n",
       "3963  chn_ets      46.61           CNY      12/31/21           2021   \n",
       "3964  chn_ets      46.61           CNY      12/31/21           2021   \n",
       "3965  chn_ets      46.61           CNY      12/31/21           2021   \n",
       "3966  chn_ets      46.61           CNY      12/31/21           2021   \n",
       "3967  chn_ets      46.61           CNY      12/31/21           2021   \n",
       "3968  chn_ets      46.61           CNY      12/31/21           2021   \n",
       "3969  chn_ets      46.61           CNY      12/31/21           2021   \n",
       "\n",
       "     country_name country_code  exchange_rate  ets_price_usd  \n",
       "3961        China          CNY          6.373       7.313667  \n",
       "3962        China          CNY          6.373       7.313667  \n",
       "3963        China          CNY          6.373       7.313667  \n",
       "3964        China          CNY          6.373       7.313667  \n",
       "3965        China          CNY          6.373       7.313667  \n",
       "3966        China          CNY          6.373       7.313667  \n",
       "3967        China          CNY          6.373       7.313667  \n",
       "3968        China          CNY          6.373       7.313667  \n",
       "3969        China          CNY          6.373       7.313667  "
      ]
     },
     "execution_count": 56,
     "metadata": {},
     "output_type": "execute_result"
    }
   ],
   "source": [
    "carbon_df[carbon_df.jurisdiction == 'China']"
   ]
  },
  {
   "cell_type": "markdown",
   "metadata": {},
   "source": [
    "## Data Modeling"
   ]
  },
  {
   "cell_type": "markdown",
   "metadata": {},
   "source": [
    "## Model Diagnostics"
   ]
  },
  {
   "cell_type": "markdown",
   "metadata": {},
   "source": [
    "## Conclusion"
   ]
  },
  {
   "cell_type": "markdown",
   "metadata": {},
   "source": [
    "## References\n",
    "\n",
    "- https://www.ncbi.nlm.nih.gov/pmc/articles/PMC9859446/\n"
   ]
  }
 ],
 "metadata": {
  "kernelspec": {
   "display_name": "Python 3",
   "language": "python",
   "name": "python3"
  },
  "language_info": {
   "codemirror_mode": {
    "name": "ipython",
    "version": 3
   },
   "file_extension": ".py",
   "mimetype": "text/x-python",
   "name": "python",
   "nbconvert_exporter": "python",
   "pygments_lexer": "ipython3",
   "version": "3.7.6"
  }
 },
 "nbformat": 4,
 "nbformat_minor": 2
}
