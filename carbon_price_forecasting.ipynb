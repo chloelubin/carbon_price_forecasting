{
 "cells": [
  {
   "cell_type": "markdown",
   "metadata": {},
   "source": [
    "# Carbon Price Forecasting"
   ]
  },
  {
   "cell_type": "markdown",
   "metadata": {},
   "source": [
    "## Introduction"
   ]
  },
  {
   "cell_type": "markdown",
   "metadata": {},
   "source": [
    "After listening to a podcast from TILclimate, presented by the MIT Environmental Solutions Initiative, on the topic of carbon offsets, I was interested in digging more into the carbon market. A big question is whether buying credits to offset one's carbon impact on the planet is an effective scheme or not? The latest research suggests that it isn't, but the carbon market keeps expanding, with new carbon registeries opening, new corporate and individual buyers, and new climate projects funded by carbon credits. Just how big will this carbon market become in the next few years? Will it be the [$100 billion market](https://www.wsj.com/articles/rebuilding-trust-in-carbon-offsets-faces-uphill-battle-d7811603?mod=hp_minor_pos17) by 2030 that analysts predict?\n",
    "\n",
    "That's what I try to uncover in this project forecasting the price of carbon in Emissions Trading Systems (ETS). We look here at the trading demand for carbon credits by predicting carbon prices over time, a market that has the power of shaping our livelihoods.\n",
    "\n",
    "The data is sourced from the [World Carbon Pricing Database](https://github.com/g-dolphin/WorldCarbonPricingDatabase/tree/master), compiled by Dolphin and Xiahou, economics PhD researchers. It is updated by an active userbase on Github. The exchange rate between national currencies and USD is sourced from the [U.S. Treasury's website](https://fiscaldata.treasury.gov/datasets/treasury-reporting-rates-exchange/treasury-reporting-rates-of-exchange) and the corresponding currency code from [IBAN](https://www.iban.com/currency-codes)'s website."
   ]
  },
  {
   "cell_type": "markdown",
   "metadata": {},
   "source": [
    "## Data Pre-Processing"
   ]
  },
  {
   "cell_type": "code",
   "execution_count": 85,
   "metadata": {},
   "outputs": [],
   "source": [
    "# import packages\n",
    "import pandas as pd\n",
    "import numpy as np\n",
    "import requests\n",
    "import json\n",
    "import matplotlib.pyplot as plt\n",
    "%matplotlib inline"
   ]
  },
  {
   "cell_type": "code",
   "execution_count": 86,
   "metadata": {},
   "outputs": [
    {
     "name": "stdout",
     "output_type": "stream",
     "text": [
      "https://raw.githubusercontent.com/g-dolphin/WorldCarbonPricingDatabase/master/_dataset/data/CO2/national/wcpd_co2_Afghanistan.csv\n"
     ]
    }
   ],
   "source": [
    "# url used to parse HTML text using requests library\n",
    "base_url = 'https://github.com/g-dolphin/WorldCarbonPricingDatabase/tree/master/_dataset/data/CO2/national/'\n",
    "# url used to read the content of the files from Github\n",
    "file_url = 'https://raw.githubusercontent.com/g-dolphin/WorldCarbonPricingDatabase/master/_dataset/data/CO2/national/'\n",
    "\n",
    "result = requests.get(base_url)\n",
    "json_result = json.loads(result.text)\n",
    "\n",
    "country_files = []\n",
    "[country_files.append(file_url + country_file['name']) for country_file in json_result['payload']['tree']['items']]    \n",
    "\n",
    "print(country_files[0])"
   ]
  },
  {
   "cell_type": "code",
   "execution_count": 87,
   "metadata": {},
   "outputs": [],
   "source": [
    "carbon_df = pd.DataFrame()\n",
    "\n",
    "#build raw dataframe, including all countries\n",
    "for country_file in country_files:\n",
    "    data = pd.read_csv(country_file)\n",
    "    data = data.astype({'tax': 'int32', 'ets': 'int32', 'tax_rate_incl_ex_clcu': 'float', 'ets_price': 'float', 'tax_curr_code': 'str'})\n",
    "    carbon_df = pd.concat([carbon_df, data], axis=0)"
   ]
  },
  {
   "cell_type": "code",
   "execution_count": 88,
   "metadata": {
    "scrolled": true
   },
   "outputs": [],
   "source": [
    "# drop columns where all rows are null\n",
    "carbon_df.drop(carbon_df.columns[carbon_df.apply(lambda col: col.isna().sum() == carbon_df.shape[0])], inplace=True, axis=1)"
   ]
  },
  {
   "cell_type": "code",
   "execution_count": 89,
   "metadata": {
    "scrolled": true
   },
   "outputs": [],
   "source": [
    "# drop all rows without an ets_price\n",
    "carbon_df = carbon_df.dropna(subset=['ets_price'])"
   ]
  },
  {
   "cell_type": "code",
   "execution_count": 90,
   "metadata": {},
   "outputs": [],
   "source": [
    "# merge exchange rate dataframe to convert price in local currency to USD\n",
    "exch_rate_df = pd.read_csv('https://raw.githubusercontent.com/chloelubin/carbon_price_forecasting/main/_datasets/exchange_rate_2005_2022.csv')\n",
    "\n",
    "carbon_df = pd.merge(\n",
    "    carbon_df, exch_rate_df, how='left', left_on=['year', 'ets_curr_code'], right_on=['recorded_year', 'country_code']\n",
    ")"
   ]
  },
  {
   "cell_type": "code",
   "execution_count": 91,
   "metadata": {},
   "outputs": [],
   "source": [
    "carbon_df['ets_price_usd'] = carbon_df['ets_price'] / carbon_df['exchange_rate']"
   ]
  },
  {
   "cell_type": "code",
   "execution_count": 92,
   "metadata": {
    "scrolled": false
   },
   "outputs": [
    {
     "data": {
      "text/plain": [
       "array(['Austria', 'Belgium', 'Bulgaria', 'China', 'Croatia', 'Cyprus',\n",
       "       'Czech Republic', 'Denmark', 'Estonia', 'Finland', 'France',\n",
       "       'Germany', 'Greece', 'Hungary', 'Iceland', 'Ireland', 'Italy',\n",
       "       'Kazakhstan', 'Korea, Rep.', 'Latvia', 'Liechtenstein',\n",
       "       'Lithuania', 'Luxembourg', 'Malta', 'Netherlands', 'New Zealand',\n",
       "       'Norway', 'Poland', 'Portugal', 'Romania', 'Slovak Republic',\n",
       "       'Slovenia', 'Spain', 'Sweden', 'Switzerland', 'United Kingdom'],\n",
       "      dtype=object)"
      ]
     },
     "execution_count": 92,
     "metadata": {},
     "output_type": "execute_result"
    }
   ],
   "source": [
    "carbon_df.jurisdiction.unique()"
   ]
  },
  {
   "cell_type": "code",
   "execution_count": 93,
   "metadata": {
    "scrolled": true
   },
   "outputs": [
    {
     "data": {
      "text/plain": [
       "False"
      ]
     },
     "execution_count": 93,
     "metadata": {},
     "output_type": "execute_result"
    }
   ],
   "source": [
    "# find rows with different ets_price by year and jurisdiction (True if > 1, False otherwise)\n",
    "[carbon_df.groupby(['jurisdiction', 'year'])['ets_price_usd'].nunique() > 1] == True"
   ]
  },
  {
   "cell_type": "code",
   "execution_count": 94,
   "metadata": {},
   "outputs": [],
   "source": [
    "# drop duplicates from dataframe based on the uniqueness of the ets_price associated with the jurisdiction and the year\n",
    "carbon_df = carbon_df.drop_duplicates(subset=['jurisdiction','year','ets_price','ets_price_usd','exchange_rate'])"
   ]
  },
  {
   "cell_type": "code",
   "execution_count": 95,
   "metadata": {},
   "outputs": [
    {
     "ename": "KeyError",
     "evalue": "('jurisdiction', 'year', 'ets_price', 'ets_price_usd', 'exchange_rate')",
     "output_type": "error",
     "traceback": [
      "\u001b[0;31m---------------------------------------------------------------------------\u001b[0m",
      "\u001b[0;31mKeyError\u001b[0m                                  Traceback (most recent call last)",
      "\u001b[0;32m~/opt/anaconda3/lib/python3.7/site-packages/pandas/core/indexes/base.py\u001b[0m in \u001b[0;36mget_loc\u001b[0;34m(self, key, method, tolerance)\u001b[0m\n\u001b[1;32m   3360\u001b[0m             \u001b[0;32mtry\u001b[0m\u001b[0;34m:\u001b[0m\u001b[0;34m\u001b[0m\u001b[0;34m\u001b[0m\u001b[0m\n\u001b[0;32m-> 3361\u001b[0;31m                 \u001b[0;32mreturn\u001b[0m \u001b[0mself\u001b[0m\u001b[0;34m.\u001b[0m\u001b[0m_engine\u001b[0m\u001b[0;34m.\u001b[0m\u001b[0mget_loc\u001b[0m\u001b[0;34m(\u001b[0m\u001b[0mcasted_key\u001b[0m\u001b[0;34m)\u001b[0m\u001b[0;34m\u001b[0m\u001b[0;34m\u001b[0m\u001b[0m\n\u001b[0m\u001b[1;32m   3362\u001b[0m             \u001b[0;32mexcept\u001b[0m \u001b[0mKeyError\u001b[0m \u001b[0;32mas\u001b[0m \u001b[0merr\u001b[0m\u001b[0;34m:\u001b[0m\u001b[0;34m\u001b[0m\u001b[0;34m\u001b[0m\u001b[0m\n",
      "\u001b[0;32m~/opt/anaconda3/lib/python3.7/site-packages/pandas/_libs/index.pyx\u001b[0m in \u001b[0;36mpandas._libs.index.IndexEngine.get_loc\u001b[0;34m()\u001b[0m\n",
      "\u001b[0;32m~/opt/anaconda3/lib/python3.7/site-packages/pandas/_libs/index.pyx\u001b[0m in \u001b[0;36mpandas._libs.index.IndexEngine.get_loc\u001b[0;34m()\u001b[0m\n",
      "\u001b[0;32mpandas/_libs/hashtable_class_helper.pxi\u001b[0m in \u001b[0;36mpandas._libs.hashtable.PyObjectHashTable.get_item\u001b[0;34m()\u001b[0m\n",
      "\u001b[0;32mpandas/_libs/hashtable_class_helper.pxi\u001b[0m in \u001b[0;36mpandas._libs.hashtable.PyObjectHashTable.get_item\u001b[0;34m()\u001b[0m\n",
      "\u001b[0;31mKeyError\u001b[0m: ('jurisdiction', 'year', 'ets_price', 'ets_price_usd', 'exchange_rate')",
      "\nThe above exception was the direct cause of the following exception:\n",
      "\u001b[0;31mKeyError\u001b[0m                                  Traceback (most recent call last)",
      "\u001b[0;32m<ipython-input-95-9fa2cedce1ec>\u001b[0m in \u001b[0;36m<module>\u001b[0;34m\u001b[0m\n\u001b[1;32m      1\u001b[0m \u001b[0;31m# carbon_df =\u001b[0m\u001b[0;34m\u001b[0m\u001b[0;34m\u001b[0m\u001b[0;34m\u001b[0m\u001b[0m\n\u001b[0;32m----> 2\u001b[0;31m \u001b[0mcarbon_df\u001b[0m\u001b[0;34m[\u001b[0m\u001b[0;34m'jurisdiction'\u001b[0m\u001b[0;34m,\u001b[0m\u001b[0;34m'year'\u001b[0m\u001b[0;34m,\u001b[0m\u001b[0;34m'ets_price'\u001b[0m\u001b[0;34m,\u001b[0m\u001b[0;34m'ets_price_usd'\u001b[0m\u001b[0;34m,\u001b[0m\u001b[0;34m'exchange_rate'\u001b[0m\u001b[0;34m]\u001b[0m\u001b[0;34m\u001b[0m\u001b[0;34m\u001b[0m\u001b[0m\n\u001b[0m",
      "\u001b[0;32m~/opt/anaconda3/lib/python3.7/site-packages/pandas/core/frame.py\u001b[0m in \u001b[0;36m__getitem__\u001b[0;34m(self, key)\u001b[0m\n\u001b[1;32m   3456\u001b[0m             \u001b[0;32mif\u001b[0m \u001b[0mself\u001b[0m\u001b[0;34m.\u001b[0m\u001b[0mcolumns\u001b[0m\u001b[0;34m.\u001b[0m\u001b[0mnlevels\u001b[0m \u001b[0;34m>\u001b[0m \u001b[0;36m1\u001b[0m\u001b[0;34m:\u001b[0m\u001b[0;34m\u001b[0m\u001b[0;34m\u001b[0m\u001b[0m\n\u001b[1;32m   3457\u001b[0m                 \u001b[0;32mreturn\u001b[0m \u001b[0mself\u001b[0m\u001b[0;34m.\u001b[0m\u001b[0m_getitem_multilevel\u001b[0m\u001b[0;34m(\u001b[0m\u001b[0mkey\u001b[0m\u001b[0;34m)\u001b[0m\u001b[0;34m\u001b[0m\u001b[0;34m\u001b[0m\u001b[0m\n\u001b[0;32m-> 3458\u001b[0;31m             \u001b[0mindexer\u001b[0m \u001b[0;34m=\u001b[0m \u001b[0mself\u001b[0m\u001b[0;34m.\u001b[0m\u001b[0mcolumns\u001b[0m\u001b[0;34m.\u001b[0m\u001b[0mget_loc\u001b[0m\u001b[0;34m(\u001b[0m\u001b[0mkey\u001b[0m\u001b[0;34m)\u001b[0m\u001b[0;34m\u001b[0m\u001b[0;34m\u001b[0m\u001b[0m\n\u001b[0m\u001b[1;32m   3459\u001b[0m             \u001b[0;32mif\u001b[0m \u001b[0mis_integer\u001b[0m\u001b[0;34m(\u001b[0m\u001b[0mindexer\u001b[0m\u001b[0;34m)\u001b[0m\u001b[0;34m:\u001b[0m\u001b[0;34m\u001b[0m\u001b[0;34m\u001b[0m\u001b[0m\n\u001b[1;32m   3460\u001b[0m                 \u001b[0mindexer\u001b[0m \u001b[0;34m=\u001b[0m \u001b[0;34m[\u001b[0m\u001b[0mindexer\u001b[0m\u001b[0;34m]\u001b[0m\u001b[0;34m\u001b[0m\u001b[0;34m\u001b[0m\u001b[0m\n",
      "\u001b[0;32m~/opt/anaconda3/lib/python3.7/site-packages/pandas/core/indexes/base.py\u001b[0m in \u001b[0;36mget_loc\u001b[0;34m(self, key, method, tolerance)\u001b[0m\n\u001b[1;32m   3361\u001b[0m                 \u001b[0;32mreturn\u001b[0m \u001b[0mself\u001b[0m\u001b[0;34m.\u001b[0m\u001b[0m_engine\u001b[0m\u001b[0;34m.\u001b[0m\u001b[0mget_loc\u001b[0m\u001b[0;34m(\u001b[0m\u001b[0mcasted_key\u001b[0m\u001b[0;34m)\u001b[0m\u001b[0;34m\u001b[0m\u001b[0;34m\u001b[0m\u001b[0m\n\u001b[1;32m   3362\u001b[0m             \u001b[0;32mexcept\u001b[0m \u001b[0mKeyError\u001b[0m \u001b[0;32mas\u001b[0m \u001b[0merr\u001b[0m\u001b[0;34m:\u001b[0m\u001b[0;34m\u001b[0m\u001b[0;34m\u001b[0m\u001b[0m\n\u001b[0;32m-> 3363\u001b[0;31m                 \u001b[0;32mraise\u001b[0m \u001b[0mKeyError\u001b[0m\u001b[0;34m(\u001b[0m\u001b[0mkey\u001b[0m\u001b[0;34m)\u001b[0m \u001b[0;32mfrom\u001b[0m \u001b[0merr\u001b[0m\u001b[0;34m\u001b[0m\u001b[0;34m\u001b[0m\u001b[0m\n\u001b[0m\u001b[1;32m   3364\u001b[0m \u001b[0;34m\u001b[0m\u001b[0m\n\u001b[1;32m   3365\u001b[0m         \u001b[0;32mif\u001b[0m \u001b[0mis_scalar\u001b[0m\u001b[0;34m(\u001b[0m\u001b[0mkey\u001b[0m\u001b[0;34m)\u001b[0m \u001b[0;32mand\u001b[0m \u001b[0misna\u001b[0m\u001b[0;34m(\u001b[0m\u001b[0mkey\u001b[0m\u001b[0;34m)\u001b[0m \u001b[0;32mand\u001b[0m \u001b[0;32mnot\u001b[0m \u001b[0mself\u001b[0m\u001b[0;34m.\u001b[0m\u001b[0mhasnans\u001b[0m\u001b[0;34m:\u001b[0m\u001b[0;34m\u001b[0m\u001b[0;34m\u001b[0m\u001b[0m\n",
      "\u001b[0;31mKeyError\u001b[0m: ('jurisdiction', 'year', 'ets_price', 'ets_price_usd', 'exchange_rate')"
     ]
    }
   ],
   "source": [
    "carbon_df = carbon_df['jurisdiction','year','ets_price','ets_price_usd','exchange_rate']"
   ]
  },
  {
   "cell_type": "code",
   "execution_count": 70,
   "metadata": {},
   "outputs": [
    {
     "data": {
      "text/plain": [
       "(569, 20)"
      ]
     },
     "execution_count": 70,
     "metadata": {},
     "output_type": "execute_result"
    }
   ],
   "source": [
    "carbon_df.shape"
   ]
  },
  {
   "cell_type": "code",
   "execution_count": 71,
   "metadata": {},
   "outputs": [
    {
     "name": "stdout",
     "output_type": "stream",
     "text": [
      "<class 'pandas.core.frame.DataFrame'>\n",
      "Int64Index: 569 entries, 0 to 43625\n",
      "Data columns (total 20 columns):\n",
      " #   Column                 Non-Null Count  Dtype  \n",
      "---  ------                 --------------  -----  \n",
      " 0   jurisdiction           569 non-null    object \n",
      " 1   year                   569 non-null    int64  \n",
      " 2   ipcc_code              569 non-null    object \n",
      " 3   Product                568 non-null    object \n",
      " 4   tax                    569 non-null    int32  \n",
      " 5   ets                    569 non-null    int32  \n",
      " 6   tax_id                 66 non-null     object \n",
      " 7   tax_rate_excl_ex_clcu  65 non-null     float64\n",
      " 8   tax_ex_rate            66 non-null     float64\n",
      " 9   tax_rate_incl_ex_clcu  65 non-null     float64\n",
      " 10  tax_curr_code          569 non-null    object \n",
      " 11  ets_id                 569 non-null    object \n",
      " 12  ets_price              569 non-null    float64\n",
      " 13  ets_curr_code          569 non-null    object \n",
      " 14  recorded_date          569 non-null    object \n",
      " 15  recorded_year          569 non-null    int64  \n",
      " 16  country_name           569 non-null    object \n",
      " 17  country_code           569 non-null    object \n",
      " 18  exchange_rate          569 non-null    float64\n",
      " 19  ets_price_usd          569 non-null    float64\n",
      "dtypes: float64(6), int32(2), int64(2), object(10)\n",
      "memory usage: 88.9+ KB\n"
     ]
    }
   ],
   "source": [
    "carbon_df.info()"
   ]
  },
  {
   "cell_type": "code",
   "execution_count": 74,
   "metadata": {},
   "outputs": [],
   "source": [
    "# export final dataset\n",
    "carbon_df.to_csv('carbon_price_all_countries.csv', index=False)"
   ]
  },
  {
   "cell_type": "markdown",
   "metadata": {},
   "source": [
    "## Exploratory Data Analysis"
   ]
  },
  {
   "cell_type": "code",
   "execution_count": 83,
   "metadata": {},
   "outputs": [
    {
     "data": {
      "image/png": "[encoded data removed]",
      "text/plain": [
       "<Figure size 640x480 with 1 Axes>"
      ]
     },
     "metadata": {},
     "output_type": "display_data"
    }
   ],
   "source": [
    "result = carbon_df.ets_price_usd.plot.hist(bins=15, color='cornflowerblue', edgecolor='k', alpha=0.5)\n",
    "plt.axvline(carbon_df.ets_price_usd.mean(), color='k', linestyle='dashed', linewidth=1.5)\n",
    "min_ylim, max_ylim = plt.ylim()\n",
    "plt.text(carbon_df.ets_price_usd.mean()*1.1, max_ylim*0.9, 'Mean: {:.1f}'.format(carbon_df.ets_price_usd.mean()));"
   ]
  },
  {
   "cell_type": "markdown",
   "metadata": {},
   "source": [
    "A quick histogram tells us that the distribution of carbon price is heavily right skewed, with a mean of $21.7. Let's break it down by year and jurisdiction."
   ]
  },
  {
   "cell_type": "code",
   "execution_count": null,
   "metadata": {},
   "outputs": [],
   "source": []
  },
  {
   "cell_type": "markdown",
   "metadata": {},
   "source": [
    "## Data Modeling"
   ]
  },
  {
   "cell_type": "markdown",
   "metadata": {},
   "source": [
    "## Model Diagnostics"
   ]
  },
  {
   "cell_type": "markdown",
   "metadata": {},
   "source": [
    "## Conclusion"
   ]
  },
  {
   "cell_type": "markdown",
   "metadata": {},
   "source": [
    "## References\n",
    "\n",
    "- https://www.ncbi.nlm.nih.gov/pmc/articles/PMC9859446/\n"
   ]
  }
 ],
 "metadata": {
  "kernelspec": {
   "display_name": "Python 3",
   "language": "python",
   "name": "python3"
  },
  "language_info": {
   "codemirror_mode": {
    "name": "ipython",
    "version": 3
   },
   "file_extension": ".py",
   "mimetype": "text/x-python",
   "name": "python",
   "nbconvert_exporter": "python",
   "pygments_lexer": "ipython3",
   "version": "3.7.6"
  }
 },
 "nbformat": 4,
 "nbformat_minor": 2
}
