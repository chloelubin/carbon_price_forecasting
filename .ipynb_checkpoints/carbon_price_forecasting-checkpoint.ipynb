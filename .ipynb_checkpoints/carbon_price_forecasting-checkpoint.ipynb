{
 "cells": [
  {
   "cell_type": "markdown",
   "metadata": {},
   "source": [
    "# Carbon Price Forecasting"
   ]
  },
  {
   "cell_type": "markdown",
   "metadata": {},
   "source": [
    "## Introduction"
   ]
  },
  {
   "cell_type": "markdown",
   "metadata": {},
   "source": [
    "In this project, I forecast the price of carbon at which it is traded in carbon markets, or Emissions Trading Systems (ETS), using a GARCH model. The data is sourced from the [World Carbon Pricing Database](https://github.com/g-dolphin/WorldCarbonPricingDatabase/tree/master), compiled by Dolphin and Xiahou, economics PhD researchers. It is maintained by an active userbase on Github to reflect updated information."
   ]
  },
  {
   "cell_type": "markdown",
   "metadata": {},
   "source": [
    "## Data Pre-Processing"
   ]
  },
  {
   "cell_type": "code",
   "execution_count": null,
   "metadata": {},
   "outputs": [],
   "source": [
    "!pip install pandas --upgrade"
   ]
  },
  {
   "cell_type": "code",
   "execution_count": 4,
   "metadata": {},
   "outputs": [],
   "source": [
    "# import packages\n",
    "import pandas as pd\n",
    "import numpy as np\n",
    "import requests\n",
    "import json\n",
    "from bs4 import BeautifulSoup\n",
    "import re"
   ]
  },
  {
   "cell_type": "code",
   "execution_count": 7,
   "metadata": {},
   "outputs": [
    {
     "name": "stdout",
     "output_type": "stream",
     "text": [
      "https://raw.githubusercontent.com/g-dolphin/WorldCarbonPricingDatabase/master/_dataset/data/CO2/national/wcpd_co2_Afghanistan.csv\n"
     ]
    }
   ],
   "source": [
    "# url used to parse HTML text using BeautifulSoup\n",
    "base_url = 'https://github.com/g-dolphin/WorldCarbonPricingDatabase/tree/master/_dataset/data/CO2/national/'\n",
    "# url used to read the content of the files from Github\n",
    "file_url = 'https://raw.githubusercontent.com/g-dolphin/WorldCarbonPricingDatabase/master/_dataset/data/CO2/national/'\n",
    "\n",
    "result = requests.get(base_url)\n",
    "json_result = json.loads(result.text)\n",
    "\n",
    "country_files = []\n",
    "[country_files.append(file_url + country_file['name']) for country_file in json_result['payload']['tree']['items']]    \n",
    "\n",
    "# while loop implementation\n",
    "# index = 0\n",
    "\n",
    "# while index < len(json_result['payload']['tree']['items']):\n",
    "#     country_files.append(file_url + json_result['payload']['tree']['items'][index]['name'])\n",
    "#     index+=1\n",
    "\n",
    "print(country_files[0])"
   ]
  },
  {
   "cell_type": "code",
   "execution_count": 8,
   "metadata": {},
   "outputs": [],
   "source": [
    "carbon_df = pd.DataFrame()\n",
    "\n",
    "for country_file in country_files:\n",
    "    data = pd.read_csv(country_file)\n",
    "    data = data.astype({'tax': 'int32', 'ets': 'int32', 'tax_rate_incl_ex_clcu': 'float', 'ets_price': 'float', 'tax_curr_code': 'str'})\n",
    "    carbon_df = pd.concat([carbon_df, data], axis=0)"
   ]
  },
  {
   "cell_type": "code",
   "execution_count": 10,
   "metadata": {
    "scrolled": true
   },
   "outputs": [
    {
     "data": {
      "text/plain": [
       "jurisdiction              object\n",
       "year                       int64\n",
       "ipcc_code                 object\n",
       "Product                   object\n",
       "tax                        int32\n",
       "ets                        int32\n",
       "tax_id                    object\n",
       "tax_rate_excl_ex_clcu    float64\n",
       "tax_ex_rate              float64\n",
       "tax_rate_incl_ex_clcu    float64\n",
       "tax_curr_code             object\n",
       "ets_id                    object\n",
       "ets_price                float64\n",
       "ets_curr_code             object\n",
       "ets_2_id                 float64\n",
       "ets_2_price              float64\n",
       "ets_2_curr_code          float64\n",
       "dtype: object"
      ]
     },
     "execution_count": 10,
     "metadata": {},
     "output_type": "execute_result"
    }
   ],
   "source": [
    "carbon_df.dtypes"
   ]
  },
  {
   "cell_type": "code",
   "execution_count": 15,
   "metadata": {
    "scrolled": true
   },
   "outputs": [],
   "source": [
    "carbon_df = carbon_df.dropna(subset=['ets_price'])"
   ]
  },
  {
   "cell_type": "code",
   "execution_count": 18,
   "metadata": {
    "scrolled": true
   },
   "outputs": [
    {
     "data": {
      "text/plain": [
       "array(['Austria', 'Belgium', 'Bulgaria', 'China', 'Croatia', 'Cyprus',\n",
       "       'Czech Republic', 'Denmark', 'Estonia', 'Finland', 'France',\n",
       "       'Germany', 'Greece', 'Hungary', 'Iceland', 'Ireland', 'Italy',\n",
       "       'Kazakhstan', 'Korea, Rep.', 'Latvia', 'Liechtenstein',\n",
       "       'Lithuania', 'Luxembourg', 'Malta', 'Netherlands', 'New Zealand',\n",
       "       'Norway', 'Poland', 'Portugal', 'Romania', 'Slovak Republic',\n",
       "       'Slovenia', 'Spain', 'Sweden', 'Switzerland', 'United Kingdom'],\n",
       "      dtype=object)"
      ]
     },
     "execution_count": 18,
     "metadata": {},
     "output_type": "execute_result"
    }
   ],
   "source": [
    "carbon_df.jurisdiction.unique()"
   ]
  },
  {
   "cell_type": "code",
   "execution_count": 17,
   "metadata": {},
   "outputs": [
    {
     "data": {
      "text/html": [
       "<div>\n",
       "<style scoped>\n",
       "    .dataframe tbody tr th:only-of-type {\n",
       "        vertical-align: middle;\n",
       "    }\n",
       "\n",
       "    .dataframe tbody tr th {\n",
       "        vertical-align: top;\n",
       "    }\n",
       "\n",
       "    .dataframe thead th {\n",
       "        text-align: right;\n",
       "    }\n",
       "</style>\n",
       "<table border=\"1\" class=\"dataframe\">\n",
       "  <thead>\n",
       "    <tr style=\"text-align: right;\">\n",
       "      <th></th>\n",
       "      <th>year</th>\n",
       "      <th>tax</th>\n",
       "      <th>ets</th>\n",
       "      <th>tax_rate_excl_ex_clcu</th>\n",
       "      <th>tax_ex_rate</th>\n",
       "      <th>tax_rate_incl_ex_clcu</th>\n",
       "      <th>ets_price</th>\n",
       "      <th>ets_2_id</th>\n",
       "      <th>ets_2_price</th>\n",
       "      <th>ets_2_curr_code</th>\n",
       "    </tr>\n",
       "  </thead>\n",
       "  <tbody>\n",
       "    <tr>\n",
       "      <th>count</th>\n",
       "      <td>43703.000000</td>\n",
       "      <td>43703.000000</td>\n",
       "      <td>43703.0</td>\n",
       "      <td>4941.000000</td>\n",
       "      <td>5008.000000</td>\n",
       "      <td>4941.000000</td>\n",
       "      <td>43703.000000</td>\n",
       "      <td>0.0</td>\n",
       "      <td>0.0</td>\n",
       "      <td>0.0</td>\n",
       "    </tr>\n",
       "    <tr>\n",
       "      <th>mean</th>\n",
       "      <td>2014.112807</td>\n",
       "      <td>0.114592</td>\n",
       "      <td>1.0</td>\n",
       "      <td>106.929135</td>\n",
       "      <td>0.039173</td>\n",
       "      <td>68.785893</td>\n",
       "      <td>349.509261</td>\n",
       "      <td>NaN</td>\n",
       "      <td>NaN</td>\n",
       "      <td>NaN</td>\n",
       "    </tr>\n",
       "    <tr>\n",
       "      <th>std</th>\n",
       "      <td>5.009149</td>\n",
       "      <td>0.318532</td>\n",
       "      <td>0.0</td>\n",
       "      <td>325.995177</td>\n",
       "      <td>0.174870</td>\n",
       "      <td>262.278894</td>\n",
       "      <td>2793.133980</td>\n",
       "      <td>NaN</td>\n",
       "      <td>NaN</td>\n",
       "      <td>NaN</td>\n",
       "    </tr>\n",
       "    <tr>\n",
       "      <th>min</th>\n",
       "      <td>2005.000000</td>\n",
       "      <td>0.000000</td>\n",
       "      <td>1.0</td>\n",
       "      <td>0.000000</td>\n",
       "      <td>0.000000</td>\n",
       "      <td>0.000000</td>\n",
       "      <td>0.000000</td>\n",
       "      <td>NaN</td>\n",
       "      <td>NaN</td>\n",
       "      <td>NaN</td>\n",
       "    </tr>\n",
       "    <tr>\n",
       "      <th>25%</th>\n",
       "      <td>2010.000000</td>\n",
       "      <td>0.000000</td>\n",
       "      <td>1.0</td>\n",
       "      <td>1.890000</td>\n",
       "      <td>0.000000</td>\n",
       "      <td>1.890000</td>\n",
       "      <td>5.950000</td>\n",
       "      <td>NaN</td>\n",
       "      <td>NaN</td>\n",
       "      <td>NaN</td>\n",
       "    </tr>\n",
       "    <tr>\n",
       "      <th>50%</th>\n",
       "      <td>2014.000000</td>\n",
       "      <td>0.000000</td>\n",
       "      <td>1.0</td>\n",
       "      <td>12.000000</td>\n",
       "      <td>0.000000</td>\n",
       "      <td>12.000000</td>\n",
       "      <td>14.340000</td>\n",
       "      <td>NaN</td>\n",
       "      <td>NaN</td>\n",
       "      <td>NaN</td>\n",
       "    </tr>\n",
       "    <tr>\n",
       "      <th>75%</th>\n",
       "      <td>2018.000000</td>\n",
       "      <td>0.000000</td>\n",
       "      <td>1.0</td>\n",
       "      <td>27.622137</td>\n",
       "      <td>0.000000</td>\n",
       "      <td>27.622137</td>\n",
       "      <td>24.760000</td>\n",
       "      <td>NaN</td>\n",
       "      <td>NaN</td>\n",
       "      <td>NaN</td>\n",
       "    </tr>\n",
       "    <tr>\n",
       "      <th>max</th>\n",
       "      <td>2022.000000</td>\n",
       "      <td>1.000000</td>\n",
       "      <td>1.0</td>\n",
       "      <td>4235.000000</td>\n",
       "      <td>0.900000</td>\n",
       "      <td>4235.000000</td>\n",
       "      <td>30163.910000</td>\n",
       "      <td>NaN</td>\n",
       "      <td>NaN</td>\n",
       "      <td>NaN</td>\n",
       "    </tr>\n",
       "  </tbody>\n",
       "</table>\n",
       "</div>"
      ],
      "text/plain": [
       "               year           tax      ets  tax_rate_excl_ex_clcu  \\\n",
       "count  43703.000000  43703.000000  43703.0            4941.000000   \n",
       "mean    2014.112807      0.114592      1.0             106.929135   \n",
       "std        5.009149      0.318532      0.0             325.995177   \n",
       "min     2005.000000      0.000000      1.0               0.000000   \n",
       "25%     2010.000000      0.000000      1.0               1.890000   \n",
       "50%     2014.000000      0.000000      1.0              12.000000   \n",
       "75%     2018.000000      0.000000      1.0              27.622137   \n",
       "max     2022.000000      1.000000      1.0            4235.000000   \n",
       "\n",
       "       tax_ex_rate  tax_rate_incl_ex_clcu     ets_price  ets_2_id  \\\n",
       "count  5008.000000            4941.000000  43703.000000       0.0   \n",
       "mean      0.039173              68.785893    349.509261       NaN   \n",
       "std       0.174870             262.278894   2793.133980       NaN   \n",
       "min       0.000000               0.000000      0.000000       NaN   \n",
       "25%       0.000000               1.890000      5.950000       NaN   \n",
       "50%       0.000000              12.000000     14.340000       NaN   \n",
       "75%       0.000000              27.622137     24.760000       NaN   \n",
       "max       0.900000            4235.000000  30163.910000       NaN   \n",
       "\n",
       "       ets_2_price  ets_2_curr_code  \n",
       "count          0.0              0.0  \n",
       "mean           NaN              NaN  \n",
       "std            NaN              NaN  \n",
       "min            NaN              NaN  \n",
       "25%            NaN              NaN  \n",
       "50%            NaN              NaN  \n",
       "75%            NaN              NaN  \n",
       "max            NaN              NaN  "
      ]
     },
     "execution_count": 17,
     "metadata": {},
     "output_type": "execute_result"
    }
   ],
   "source": [
    "carbon_df.describe()"
   ]
  },
  {
   "cell_type": "code",
   "execution_count": 19,
   "metadata": {},
   "outputs": [
    {
     "data": {
      "text/plain": [
       "(43703, 17)"
      ]
     },
     "execution_count": 19,
     "metadata": {},
     "output_type": "execute_result"
    }
   ],
   "source": [
    "carbon_df.shape"
   ]
  },
  {
   "cell_type": "code",
   "execution_count": 21,
   "metadata": {},
   "outputs": [
    {
     "name": "stdout",
     "output_type": "stream",
     "text": [
      "<class 'pandas.core.frame.DataFrame'>\n",
      "Int64Index: 43703 entries, 4779 to 9774\n",
      "Data columns (total 17 columns):\n",
      " #   Column                 Non-Null Count  Dtype  \n",
      "---  ------                 --------------  -----  \n",
      " 0   jurisdiction           43703 non-null  object \n",
      " 1   year                   43703 non-null  int64  \n",
      " 2   ipcc_code              43703 non-null  object \n",
      " 3   Product                31671 non-null  object \n",
      " 4   tax                    43703 non-null  int32  \n",
      " 5   ets                    43703 non-null  int32  \n",
      " 6   tax_id                 5008 non-null   object \n",
      " 7   tax_rate_excl_ex_clcu  4941 non-null   float64\n",
      " 8   tax_ex_rate            5008 non-null   float64\n",
      " 9   tax_rate_incl_ex_clcu  4941 non-null   float64\n",
      " 10  tax_curr_code          43703 non-null  object \n",
      " 11  ets_id                 43703 non-null  object \n",
      " 12  ets_price              43703 non-null  float64\n",
      " 13  ets_curr_code          43703 non-null  object \n",
      " 14  ets_2_id               0 non-null      float64\n",
      " 15  ets_2_price            0 non-null      float64\n",
      " 16  ets_2_curr_code        0 non-null      float64\n",
      "dtypes: float64(7), int32(2), int64(1), object(7)\n",
      "memory usage: 5.7+ MB\n"
     ]
    }
   ],
   "source": [
    "carbon_df.info()"
   ]
  },
  {
   "cell_type": "code",
   "execution_count": null,
   "metadata": {},
   "outputs": [],
   "source": [
    "carbon_df.to_csv('carbon_price_all_countries.csv', index=False)"
   ]
  },
  {
   "cell_type": "markdown",
   "metadata": {},
   "source": [
    "## Data Modeling"
   ]
  },
  {
   "cell_type": "markdown",
   "metadata": {},
   "source": [
    "## Model Diagnostics"
   ]
  },
  {
   "cell_type": "markdown",
   "metadata": {},
   "source": [
    "## Conclusion"
   ]
  },
  {
   "cell_type": "markdown",
   "metadata": {},
   "source": [
    "## References\n",
    "\n",
    "- https://www.ncbi.nlm.nih.gov/pmc/articles/PMC9859446/\n"
   ]
  }
 ],
 "metadata": {
  "kernelspec": {
   "display_name": "Python 3",
   "language": "python",
   "name": "python3"
  },
  "language_info": {
   "codemirror_mode": {
    "name": "ipython",
    "version": 3
   },
   "file_extension": ".py",
   "mimetype": "text/x-python",
   "name": "python",
   "nbconvert_exporter": "python",
   "pygments_lexer": "ipython3",
   "version": "3.7.6"
  }
 },
 "nbformat": 4,
 "nbformat_minor": 2
}
